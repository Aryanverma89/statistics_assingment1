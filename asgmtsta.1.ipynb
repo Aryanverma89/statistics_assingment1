{
 "cells": [
  {
   "cell_type": "markdown",
   "id": "385d1a75-50b7-48b6-b213-31009a607e94",
   "metadata": {},
   "source": [
    "Q1. What is Statistics?"
   ]
  },
  {
   "cell_type": "code",
   "execution_count": 1,
   "id": "9079fc1f-b50b-4b65-abc5-13ecd0433259",
   "metadata": {},
   "outputs": [
    {
     "data": {
      "text/plain": [
       "'Statistics is the study of the collection, analysis, interpretation, presentation, and organization of data.\\nAlso, we can say that statistics is a branch of applied mathematics.'"
      ]
     },
     "execution_count": 1,
     "metadata": {},
     "output_type": "execute_result"
    }
   ],
   "source": [
    "\"\"\"Statistics is the study of the collection, analysis, interpretation, presentation, and organization of data.\n",
    "Also, we can say that statistics is a branch of applied mathematics.\"\"\""
   ]
  },
  {
   "cell_type": "markdown",
   "id": "fe46c1f5-e0e3-4634-8360-6408ce8d949b",
   "metadata": {},
   "source": [
    "Q2. Define the different types of statistics and give an example of when each type might be used."
   ]
  },
  {
   "cell_type": "code",
   "execution_count": 3,
   "id": "7a24e999-54ca-4d77-abeb-c6fe14e16840",
   "metadata": {},
   "outputs": [
    {
     "data": {
      "text/plain": [
       "' There are of two types of statistics :\\n1. Descriptive Statistics - It means consists of organsing and summarizing data.\\nThis is classified in different types:\\na. Measure of Central Tendency[Mean ,Mode,Median]\\nb. Measure of Dispersion[Variance ,standard deviation]\\nc. Different types of Distributions of data.\\nEg. Histogram tools,pdf function ,probability mass function.\\n\\n2. Inferential Statistics - It makes inferences and predictions about the sample of data taken from the user.\\nIn other words consists of data you my have measured to form a conclusion.\\nWe apply for this like pi test ,t- test ,etc.\\n'"
      ]
     },
     "execution_count": 3,
     "metadata": {},
     "output_type": "execute_result"
    }
   ],
   "source": [
    "\"\"\" There are of two types of statistics :\n",
    "1. Descriptive Statistics - It means consists of organsing and summarizing data.\n",
    "This is classified in different types:\n",
    "a. Measure of Central Tendency[Mean ,Mode,Median]\n",
    "b. Measure of Dispersion[Variance ,standard deviation]\n",
    "c. Different types of Distributions of data.\n",
    "Eg. Histogram tools,pdf function ,probability mass function.\n",
    "\n",
    "2. Inferential Statistics - It makes inferences and predictions about the sample of data taken from the user.\n",
    "In other words consists of data you my have measured to form a conclusion.\n",
    "We apply for this like pi test ,t- test ,etc.\n",
    "\"\"\""
   ]
  },
  {
   "cell_type": "markdown",
   "id": "89a199bf-671d-44fc-97f6-cb092776da3c",
   "metadata": {},
   "source": [
    "Q3. What are the different types of data and how do they differ from each other? Provide an example of\n",
    "each type of data."
   ]
  },
  {
   "cell_type": "code",
   "execution_count": 2,
   "id": "847c6c51-8e73-4841-87a3-336bb7a795c7",
   "metadata": {},
   "outputs": [
    {
     "data": {
      "text/plain": [
       "' In statistics there are two types of types of data:\\n1. Quantative Data - In this type of data we have numerical values like integer type(33,556,66,etc) ,decimal type(22.44,5.5,etc)\\nQuantative Data is of two types :\\na. Discrete Data - Discrete data means integer type data.\\nEg. No. of students,No. of bank accounts ,etc.\\nb. Continuous data ;- It is the type of data that represent the data in a continuous range.\\nEx. Temperature Range,Salary range of Workers in a Factory, etc. \\n\\n2. Qualitative Data -Qualitative Data is also called Categorical Data and its categories the data into various categories. \\nIt is of two types :\\na. Nominal Data - In this type of data that consists of categories or names that cannot be ordered or ranked.\\nEx. gender (Male or female), religion (Hinuduism, Christianity, Islam, Judaism), and blood type (A, B, AB, O) ,etc.\\nb. Ordinal Data - In this type of data that represents rank or category of data.\\nEx. Costumer Feedback (Good,Better,bad), Education level(highschool , intermediate,ug graduation),etc.\\n'"
      ]
     },
     "execution_count": 2,
     "metadata": {},
     "output_type": "execute_result"
    }
   ],
   "source": [
    "\"\"\" In statistics there are two types of types of data:\n",
    "1. Quantative Data - In this type of data we have numerical values like integer type(33,556,66,etc) ,decimal type(22.44,5.5,etc)\n",
    "Quantative Data is of two types :\n",
    "a. Discrete Data - Discrete data means integer type data.\n",
    "Eg. No. of students,No. of bank accounts ,etc.\n",
    "b. Continuous data ;- It is the type of data that represent the data in a continuous range.\n",
    "Ex. Temperature Range,Salary range of Workers in a Factory, etc. \n",
    "\n",
    "2. Qualitative Data -Qualitative Data is also called Categorical Data and its categories the data into various categories. \n",
    "It is of two types :\n",
    "a. Nominal Data - In this type of data that consists of categories or names that cannot be ordered or ranked.\n",
    "Ex. gender (Male or female), religion (Hinuduism, Christianity, Islam, Judaism), and blood type (A, B, AB, O) ,etc.\n",
    "b. Ordinal Data - In this type of data that represents rank or category of data.\n",
    "Ex. Costumer Feedback (Good,Better,bad), Education level(highschool , intermediate,ug graduation),etc.\n",
    "\"\"\"\n",
    "\n"
   ]
  },
  {
   "cell_type": "markdown",
   "id": "9905d26a-2b24-4f87-9b9f-58b831296069",
   "metadata": {},
   "source": [
    "Q4. Categorise the following datasets with respect to quantitative and qualitative data types:\n",
    "(i) Grading in exam: A+, A, B+, B, C+, C, D, E\n",
    "(ii) Colour of mangoes: yellow, green, orange, red\n",
    "(iii) Height data of a class: [178.9, 179, 179.5, 176, 177.2, 178.3, 175.8,...]\n",
    "(iv) Number of mangoes exported by a farm: [500, 600, 478, 672, ...]"
   ]
  },
  {
   "cell_type": "code",
   "execution_count": 1,
   "id": "409e34b8-2233-4692-8ea4-82482e8f0b19",
   "metadata": {},
   "outputs": [
    {
     "data": {
      "text/plain": [
       "'\\ni- Qualatative data \\nii- Qualatative data \\niii- Quantitative data\\niv-  Quantitative data\\n'"
      ]
     },
     "execution_count": 1,
     "metadata": {},
     "output_type": "execute_result"
    }
   ],
   "source": [
    "\"\"\"\n",
    "i- Qualatative data \n",
    "ii- Qualatative data \n",
    "iii- Quantitative data\n",
    "iv-  Quantitative data\n",
    "\"\"\"\n"
   ]
  },
  {
   "cell_type": "markdown",
   "id": "cdd0d231-daa1-40d6-8be8-9b54d9cf1aca",
   "metadata": {},
   "source": [
    "Q5. Explain the concept of levels of measurement and give an example of a variable for each level."
   ]
  },
  {
   "cell_type": "code",
   "execution_count": 2,
   "id": "255c4d2e-0859-4ab7-aff9-881e77255c6e",
   "metadata": {},
   "outputs": [
    {
     "data": {
      "text/plain": [
       "'Levels of measurement, also called scales of measurement. There are four types of level of measurement which are-\\ni- Nominal Scale Data: Data that we cosider called qualitative and categorial data. In this order does not matter.\\nEx- gender,colours,etc.\\nii- Ordinal Scale Data: Ranking is very important. Order matters in this.Difference cannot be mesured.\\nEx- Feedback(Best,Better,Good),Race(1st, 2nd,3rd)etc.\\niii-Interval Scale Data: Order matters,Differnce can be measured,Ratio cannot be mesured.\\nEx- temperature \\niv- Ratio Scale Data: The Order matters,ratio can be also measurd,Differnce can be measured ,containing 0 starting point.\\nEx- Marks (20,34,45,56,60,75,90)    '"
      ]
     },
     "execution_count": 2,
     "metadata": {},
     "output_type": "execute_result"
    }
   ],
   "source": [
    "\"\"\"Levels of measurement, also called scales of measurement. There are four types of level of measurement which are-\n",
    "i- Nominal Scale Data: Data that we cosider called qualitative and categorial data. In this order does not matter.\n",
    "Ex- gender,colours,etc.\n",
    "ii- Ordinal Scale Data: Ranking is very important. Order matters in this.Difference cannot be mesured.\n",
    "Ex- Feedback(Best,Better,Good),Race(1st, 2nd,3rd)etc.\n",
    "iii-Interval Scale Data: Order matters,Differnce can be measured,Ratio cannot be mesured.\n",
    "Ex- temperature \n",
    "iv- Ratio Scale Data: The Order matters,ratio can be also measurd,Differnce can be measured ,containing 0 starting point.\n",
    "Ex- Marks (20,34,45,56,60,75,90)    \"\"\"\n"
   ]
  },
  {
   "cell_type": "markdown",
   "id": "65f1016b-1e7c-4794-8b2e-aa462669627e",
   "metadata": {},
   "source": [
    "Q6. Why is it important to understand the level of measurement when analyzing data? provide an example to illustrate your answer."
   ]
  },
  {
   "cell_type": "code",
   "execution_count": 3,
   "id": "2617aaa7-643b-430e-851b-2356482240d3",
   "metadata": {},
   "outputs": [
    {
     "data": {
      "text/plain": [
       "'It is important to understand the level of measurement of variables in research, \\nbecause the level of measurement determines the type of statistical analysis that can be conducted,\\nand, therefore, the type of conclusions that can be drawn from the research.    '"
      ]
     },
     "execution_count": 3,
     "metadata": {},
     "output_type": "execute_result"
    }
   ],
   "source": [
    "\"\"\"It is important to understand the level of measurement of variables in research, \n",
    "because the level of measurement determines the type of statistical analysis that can be conducted,\n",
    "therefore, the type of conclusions that can be drawn from the research.    \"\"\""
   ]
  },
  {
   "cell_type": "markdown",
   "id": "dd2eaf5e-ae14-4f90-b9b8-c631447ee065",
   "metadata": {},
   "source": [
    "Q7. How nominal data type is different from ordinal data type."
   ]
  },
  {
   "cell_type": "code",
   "execution_count": 4,
   "id": "1ab9eb2d-34b9-4fb8-a292-dde57b5e7d4e",
   "metadata": {},
   "outputs": [
    {
     "data": {
      "text/plain": [
       "'The main differences between Nominal Data and Ordinal Data are:\\nWhile Nominal Data is classified without any intrinsic ordering or rank, Ordinal Data has some predetermined or natural order. \\nNominal data is qualitative or categorical data, while Ordinal data is considered “in-between” qualitative and quantitative data.\\nNominal data do not provide any quantitative value, and you cannot perform numeric operations with them or compare them with one another. However, Ordinal data provide sequence, and it is possible to assign numbers to the data. No numeric operations can be performed. But ordinal data makes it possible to compare one item with another in terms of ranking.  \\nExample of Nominal Data – Eye color, Gender; Example of Ordinal data – Customer Feedback, Economic Status\\n'"
      ]
     },
     "execution_count": 4,
     "metadata": {},
     "output_type": "execute_result"
    }
   ],
   "source": [
    "\"\"\"The main differences between Nominal Data and Ordinal Data are:\n",
    "While Nominal Data is classified without any intrinsic ordering or rank, Ordinal Data has some predetermined or natural order. \n",
    "Nominal data is qualitative or categorical data, while Ordinal data is considered “in-between” qualitative and quantitative data.\n",
    "Nominal data do not provide any quantitative value, and you cannot perform numeric operations with them or compare them with one another. However, Ordinal data provide sequence, and it is possible to assign numbers to the data. No numeric operations can be performed. But ordinal data makes it possible to compare one item with another in terms of ranking.  \n",
    "Example of Nominal Data – Eye color, Gender; Example of Ordinal data – Customer Feedback, Economic Status\n",
    "\"\"\""
   ]
  },
  {
   "cell_type": "markdown",
   "id": "ef4a8dd6-ef5c-49a9-ba1c-3023dd98bf72",
   "metadata": {},
   "source": [
    "Q8. Which type of plot can be used to display data in terms of range?"
   ]
  },
  {
   "cell_type": "code",
   "execution_count": 5,
   "id": "745f5dff-9592-489c-a337-658b312d1783",
   "metadata": {},
   "outputs": [
    {
     "data": {
      "text/plain": [
       "'Histograms. In a histogram, the range is the width that the bars cover along the x-axis.\\nThese are approximate values because histograms display bin values rather than raw data values.\\nIn these histograms, distribution A has an approximate range of 65 – 40 = 25 and for distribution C it is 90 – 20 = 70.  '"
      ]
     },
     "execution_count": 5,
     "metadata": {},
     "output_type": "execute_result"
    }
   ],
   "source": [
    "\"\"\"Histograms. In a histogram, the range is the width that the bars cover along the x-axis.\n",
    "These are approximate values because histograms display bin values rather than raw data values.\n",
    "In these histograms, distribution A has an approximate range of 65 – 40 = 25 and for distribution C it is 90 – 20 = 70.  \"\"\""
   ]
  },
  {
   "cell_type": "markdown",
   "id": "f30ef075-4be2-4789-8897-dd476e93d612",
   "metadata": {},
   "source": [
    "Q9. Describe the difference between descriptive and inferential statistics. Give an example of each \n",
    "type of statistics and explain how they are used."
   ]
  },
  {
   "cell_type": "code",
   "execution_count": 6,
   "id": "1a1e0962-7228-447f-89e4-7e0d54cc89c3",
   "metadata": {},
   "outputs": [
    {
     "data": {
      "text/plain": [
       "'Descriptive Statistics helps to organize, analyze, and present the data in a meaningful way. \\nInferential statistics allows comparing data and making predictions and hypotheses with it. a sample of a small size. \\nInferential Statistics tries to reach out to a conclusion about the population.\\nFor example, a descriptive statistic could include the proportion of males and females within a sample or the percentages of different age groups within a population.\\nExample: Inferential statistics You randomly select a sample of 11th graders in your state and collect data on their SAT scores and other characteristics.\\n'"
      ]
     },
     "execution_count": 6,
     "metadata": {},
     "output_type": "execute_result"
    }
   ],
   "source": [
    "\"\"\"Descriptive Statistics helps to organize, analyze, and present the data in a meaningful way. \n",
    "Inferential statistics allows comparing data and making predictions and hypotheses with it. a sample of a small size. \n",
    "Inferential Statistics tries to reach out to a conclusion about the population.\n",
    "For example, a descriptive statistic could include the proportion of males and females within a sample or the percentages of different age groups within a population.\n",
    "Example: Inferential statistics You randomly select a sample of 11th graders in your state and collect data on their SAT scores and other characteristics.\n",
    "\"\"\"\n"
   ]
  },
  {
   "cell_type": "markdown",
   "id": "5f0b1ab4-f546-46c3-a0ef-ac07042e1217",
   "metadata": {},
   "source": [
    "Q10. What are some common measures of central tendency and variability used in statistics? Explain \n",
    "how each measure can be used to describe a dataset."
   ]
  }
 ],
 "metadata": {
  "kernelspec": {
   "display_name": "Python 3 (ipykernel)",
   "language": "python",
   "name": "python3"
  },
  "language_info": {
   "codemirror_mode": {
    "name": "ipython",
    "version": 3
   },
   "file_extension": ".py",
   "mimetype": "text/x-python",
   "name": "python",
   "nbconvert_exporter": "python",
   "pygments_lexer": "ipython3",
   "version": "3.10.8"
  }
 },
 "nbformat": 4,
 "nbformat_minor": 5
}
